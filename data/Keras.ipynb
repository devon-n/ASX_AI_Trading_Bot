{
 "cells": [
  {
   "cell_type": "code",
   "execution_count": 1,
   "id": "88ccf961",
   "metadata": {},
   "outputs": [],
   "source": [
    "# Import libraries\n",
    "import pandas as pd\n",
    "from keras.models import Sequential\n",
    "from keras.layers import Dense, Dropout, LeakyReLU, BatchNormalization, GaussianNoise\n",
    "from keras.callbacks import ModelCheckpoint, ReduceLROnPlateau, EarlyStopping\n",
    "from keras.optimizers import SGD\n",
    "from keras.wrappers.scikit_learn import KerasClassifier\n",
    "from keras.constraints import maxnorm\n",
    "from keras.regularizers import l1\n",
    "\n",
    "# Preprocessing\n",
    "from sklearn.preprocessing import MinMaxScaler, RobustScaler, StandardScaler, Normalizer\n",
    "from sklearn.impute import SimpleImputer\n",
    "\n",
    "# Evaluating\n",
    "from sklearn.model_selection import GridSearchCV, train_test_split\n",
    "import matplotlib.pyplot as plt\n",
    "\n",
    "# Saving model\n",
    "from keras.models import load_model\n",
    "\n",
    "imputer = SimpleImputer()\n",
    "MMS = MinMaxScaler()\n",
    "RS = RobustScaler()\n",
    "SS = StandardScaler()\n",
    "Norm = Normalizer()"
   ]
  },
  {
   "cell_type": "code",
   "execution_count": 3,
   "id": "02f0b0b7",
   "metadata": {},
   "outputs": [
    {
     "name": "stdout",
     "output_type": "stream",
     "text": [
      "Current NA values:  52828\n",
      "Prev Year NA values:  42270\n"
     ]
    }
   ],
   "source": [
    "# Get data and merge together\n",
    "\n",
    "data_current = pd.read_csv('./Scraping/Current Stats and Games.csv', parse_dates=['Date'])\n",
    "data_prev = pd.read_csv('./Scraping/Previous Stats and Games.csv', parse_dates=['Date'])\n",
    "\n",
    "print('Current NA values: ',data_current.isna().sum().sum())\n",
    "print('Prev Year NA values: ',data_prev.isna().sum().sum())"
   ]
  },
  {
   "cell_type": "code",
   "execution_count": 4,
   "id": "156c323b",
   "metadata": {},
   "outputs": [],
   "source": [
    "# Home win = 49% baseline\n",
    "# Fav win = 46.6% baseline\n",
    "\n",
    "y = data_current['Home Win']\n",
    "x = data_current.loc[:,'H  #Bat':]\n",
    "y = data_prev['Home Win']\n",
    "x = data_prev.loc[:,'H  #Bat':]\n",
    "x_with_odds = x.copy()\n",
    "x_with_odds[['Home Odds', 'Vis Odds']] = data_current[['Home Odds', 'Vis Odds']]\n",
    "# x_dates = x.copy()"
   ]
  },
  {
   "cell_type": "code",
   "execution_count": 5,
   "id": "5ee2d6d4",
   "metadata": {},
   "outputs": [],
   "source": [
    "# Split columns with hyphens\n",
    "# Create function to use on both current and prev stats\n",
    "\n",
    "x = x.astype(str)\n",
    "\n",
    "cols_to_delim = []\n",
    "\n",
    "for col in x.columns:\n",
    "    result = x[col].str.contains(pat='\\d-\\d')\n",
    "    if result.any():\n",
    "        cols_to_delim.append(col)\n",
    "\n",
    "for col in cols_to_delim:\n",
    "        x[[col + '1', col + '2']] = x[col].str.split('-', expand=True)\n",
    "        del x[col]\n",
    "        \n",
    "x = x.astype(float)\n",
    "\n",
    "\n",
    "# Impute Scale/Normalise the data\n",
    "\n",
    "x_impute = imputer.fit_transform(x, y)\n",
    "\n",
    "x_scale = MMS.fit_transform(x_impute)\n",
    "# x_scale"
   ]
  },
  {
   "cell_type": "code",
   "execution_count": 18,
   "id": "396046e0",
   "metadata": {},
   "outputs": [
    {
     "name": "stdout",
     "output_type": "stream",
     "text": [
      "Epoch 1/20\n",
      "773/773 [==============================] - 3s 4ms/step - loss: 1.1661 - accuracy: 0.4650 - val_loss: 1.1783 - val_accuracy: 0.4733\n",
      "Epoch 2/20\n",
      "773/773 [==============================] - 3s 3ms/step - loss: 1.1735 - accuracy: 0.4719 - val_loss: 1.1707 - val_accuracy: 0.4733\n",
      "Epoch 3/20\n",
      "773/773 [==============================] - 3s 3ms/step - loss: 1.1708 - accuracy: 0.4745 - val_loss: 1.1635 - val_accuracy: 0.4733\n",
      "Epoch 4/20\n",
      "773/773 [==============================] - 3s 3ms/step - loss: 1.1533 - accuracy: 0.4690 - val_loss: 1.1563 - val_accuracy: 0.4733\n",
      "Epoch 5/20\n",
      "773/773 [==============================] - 3s 3ms/step - loss: 1.1460 - accuracy: 0.4689 - val_loss: 1.1490 - val_accuracy: 0.4733\n",
      "Epoch 6/20\n",
      "773/773 [==============================] - 2s 3ms/step - loss: 1.1439 - accuracy: 0.4719 - val_loss: 1.1415 - val_accuracy: 0.4733\n",
      "\n",
      "Epoch 00006: ReduceLROnPlateau reducing learning rate to 9.999999747378752e-06.\n",
      "Epoch 7/20\n",
      "773/773 [==============================] - 2s 3ms/step - loss: 1.1353 - accuracy: 0.4703 - val_loss: 1.1407 - val_accuracy: 0.4733\n",
      "Epoch 8/20\n",
      "773/773 [==============================] - 3s 3ms/step - loss: 1.1391 - accuracy: 0.4729 - val_loss: 1.1400 - val_accuracy: 0.4733\n",
      "Epoch 9/20\n",
      "773/773 [==============================] - 3s 3ms/step - loss: 1.1310 - accuracy: 0.4686 - val_loss: 1.1392 - val_accuracy: 0.4733\n",
      "Epoch 10/20\n",
      "773/773 [==============================] - 3s 3ms/step - loss: 1.1339 - accuracy: 0.4708 - val_loss: 1.1384 - val_accuracy: 0.4733\n",
      "Epoch 11/20\n",
      "773/773 [==============================] - 3s 3ms/step - loss: 1.1363 - accuracy: 0.4727 - val_loss: 1.1377 - val_accuracy: 0.4733\n",
      "\n",
      "Epoch 00011: ReduceLROnPlateau reducing learning rate to 9.999999747378752e-07.\n",
      "Epoch 12/20\n",
      "773/773 [==============================] - 3s 3ms/step - loss: 1.1292 - accuracy: 0.4688 - val_loss: 1.1376 - val_accuracy: 0.4733\n",
      "Epoch 13/20\n",
      "773/773 [==============================] - 3s 3ms/step - loss: 1.1296 - accuracy: 0.4691 - val_loss: 1.1375 - val_accuracy: 0.4733\n",
      "Epoch 14/20\n",
      "773/773 [==============================] - 3s 3ms/step - loss: 1.1312 - accuracy: 0.4701 - val_loss: 1.1375 - val_accuracy: 0.4733\n",
      "Epoch 15/20\n",
      "773/773 [==============================] - 3s 3ms/step - loss: 1.1364 - accuracy: 0.4732 - val_loss: 1.1374 - val_accuracy: 0.4733\n",
      "Epoch 16/20\n",
      "773/773 [==============================] - 3s 3ms/step - loss: 1.1253 - accuracy: 0.4667 - val_loss: 1.1373 - val_accuracy: 0.4733\n",
      "\n",
      "Epoch 00016: ReduceLROnPlateau reducing learning rate to 9.999999974752428e-08.\n",
      "Epoch 17/20\n",
      "773/773 [==============================] - 2s 3ms/step - loss: 1.1290 - accuracy: 0.4689 - val_loss: 1.1373 - val_accuracy: 0.4733\n",
      "Epoch 18/20\n",
      "773/773 [==============================] - 3s 3ms/step - loss: 1.1276 - accuracy: 0.4681 - val_loss: 1.1373 - val_accuracy: 0.4733\n",
      "Epoch 19/20\n",
      "773/773 [==============================] - 2s 3ms/step - loss: 1.1370 - accuracy: 0.4736 - val_loss: 1.1373 - val_accuracy: 0.4733\n",
      "Epoch 20/20\n",
      "773/773 [==============================] - 2s 3ms/step - loss: 1.1327 - accuracy: 0.4710 - val_loss: 1.1373 - val_accuracy: 0.4733\n"
     ]
    },
    {
     "data": {
      "text/plain": [
       "<tensorflow.python.keras.callbacks.History at 0x7f4cc2507590>"
      ]
     },
     "execution_count": 18,
     "metadata": {},
     "output_type": "execute_result"
    }
   ],
   "source": [
    "# Create the model\n",
    "\n",
    "# BATCH NORMALIZATION\n",
    "# batch size = 1, batch_size = len(x_train) batch_size = len(x_train)//16\n",
    "# batch_size = 500 (53.2%), batch_size = 1 (54%), batch_size = len(x_train) (51%), batch_size = len(x_train)//16 (52.68%)\n",
    "# BatchNorm Layers are terrible (50%)\n",
    "\n",
    "# WEIGHT REGULARIZATION\n",
    "# kernel_regularizer=l2(0.01) Took too long to run\n",
    "# LEARNING RATE SCHEDULE / ReduceLRonplateau (54%)\n",
    "# Activity regularization\n",
    "\n",
    "# Adding Noise\n",
    "# GaussianNoise (52.68%)\n",
    "# PRE-TRAINING ON LAST YEAR DATA\n",
    "\n",
    "model = Sequential()\n",
    "model.add(Dense(128, input_dim=x.shape[1], activation='relu'))\n",
    "model.add(Dense(236, activation='relu'))\n",
    "model.add(Dense(118, activation='relu'))\n",
    "model.add(Dense(59, activation='relu'))\n",
    "model.add(Dense(30, activation='relu'))\n",
    "model.add(Dense(15, activation='relu'))\n",
    "model.add(Dense(4, activation='relu'))\n",
    "model.add(Dense(1, activation='sigmoid'))\n",
    "\n",
    "sgd = SGD(lr=0.0001, momentum=0)\n",
    "# model.compile(loss='binary_crossentropy', optimizer='adam', metrics=['accuracy'])\n",
    "\n",
    "model.compile(loss='squared_hinge', optimizer=sgd, metrics=['accuracy'])\n",
    "\n",
    "# LEARNING RATE SCHEDULE\n",
    "rlrp = ReduceLROnPlateau(monitor='val_accuracy', factor=0.1, patience=5, min_delta=1E-7, verbose=1)\n",
    "# Early Stopping\n",
    "es = EarlyStopping(monitor='val_loss', mode='min', verbose=1, patience=10)\n",
    "model.fit(x_scale, y, epochs=20, batch_size=100, validation_split=0.2, verbose=1, callbacks=[rlrp])\n",
    "\n",
    "# model.fit(x_scale, y, epochs=10, batch_size=1, validation_split=0.2, verbose=1)"
   ]
  },
  {
   "cell_type": "code",
   "execution_count": 9,
   "id": "e321b8e9",
   "metadata": {},
   "outputs": [
    {
     "data": {
      "text/plain": [
       "<tensorflow.python.keras.callbacks.History at 0x271dabdd988>"
      ]
     },
     "execution_count": 9,
     "metadata": {},
     "output_type": "execute_result"
    }
   ],
   "source": [
    "# # Checkpointing models\n",
    "# checkpoint = ModelCheckpoint('Weights.hdf5', monitor='accuracy', save_best_only=True, mode='max')\n",
    "# callbacks_list = [checkpoint]\n",
    "# model.fit(x, y, epochs=5, verbose=0, callbacks=callbacks_list)"
   ]
  },
  {
   "cell_type": "code",
   "execution_count": 106,
   "id": "042ac8f7",
   "metadata": {},
   "outputs": [
    {
     "name": "stdout",
     "output_type": "stream",
     "text": [
      "Epoch 1/10\n",
      "3019/3019 [==============================] - 9s 3ms/step - loss: 0.6931 - accuracy: 0.5296\n",
      "Epoch 2/10\n",
      "3019/3019 [==============================] - 9s 3ms/step - loss: 0.6931 - accuracy: 0.5296\n",
      "Epoch 3/10\n",
      "3019/3019 [==============================] - 8s 3ms/step - loss: 0.6931 - accuracy: 0.5296\n",
      "Epoch 4/10\n",
      "3019/3019 [==============================] - 9s 3ms/step - loss: 0.6931 - accuracy: 0.5296\n",
      "Epoch 5/10\n",
      "3019/3019 [==============================] - 9s 3ms/step - loss: 0.6931 - accuracy: 0.5296\n",
      "Epoch 6/10\n",
      "3019/3019 [==============================] - 11s 4ms/step - loss: 0.6931 - accuracy: 0.5296\n",
      "Epoch 7/10\n",
      "3019/3019 [==============================] - 11s 4ms/step - loss: 0.6931 - accuracy: 0.5296\n",
      "Epoch 8/10\n",
      "3019/3019 [==============================] - 10s 3ms/step - loss: 0.6931 - accuracy: 0.5296\n",
      "Epoch 9/10\n",
      "3019/3019 [==============================] - 32s 11ms/step - loss: 0.6931 - accuracy: 0.52960s - loss: 0.6\n",
      "Epoch 10/10\n",
      "3019/3019 [==============================] - 55s 18ms/step - loss: 0.6931 - accuracy: 0.5296\n",
      "Best score:  0.5296205997467041\n",
      "Best params:  {'dropout_rate': 0.0}\n"
     ]
    }
   ],
   "source": [
    "# Grid Search with Keras\n",
    "\n",
    "def create_model(learn_rate=1e-6, momentum=0.0, init_mode='uniform', activation='relu', dropout_rate=0.0, weight_constraint=0):\n",
    "    model = Sequential()\n",
    "    model.add(Dense(128, input_dim=x.shape[1], activation=activation, kernel_initializer=init_mode, kernel_constraint=maxnorm(weight_constraint)))\n",
    "    model.add(Dropout(dropout_rate))\n",
    "    model.add(Dense(236, activation=activation, kernel_initializer=init_mode, kernel_constraint=maxnorm(weight_constraint)))\n",
    "    model.add(Dropout(dropout_rate))\n",
    "    model.add(Dense(118, activation=activation, kernel_initializer=init_mode, kernel_constraint=maxnorm(weight_constraint)))\n",
    "    model.add(Dropout(dropout_rate))\n",
    "    model.add(Dense(59, activation=activation, kernel_initializer=init_mode, kernel_constraint=maxnorm(weight_constraint)))\n",
    "    model.add(Dropout(dropout_rate))\n",
    "    model.add(Dense(30, activation=activation, kernel_initializer=init_mode, kernel_constraint=maxnorm(weight_constraint)))\n",
    "    model.add(Dropout(dropout_rate))\n",
    "    model.add(Dense(15, activation=activation, kernel_initializer=init_mode, kernel_constraint=maxnorm(weight_constraint)))\n",
    "    model.add(Dropout(dropout_rate))\n",
    "    model.add(Dense(4, activation=activation, kernel_initializer=init_mode, kernel_constraint=maxnorm(weight_constraint)))\n",
    "    model.add(Dropout(dropout_rate))\n",
    "    model.add(Dense(1, activation='sigmoid', kernel_initializer=init_mode))\n",
    "    \n",
    "    optimizer = SGD(lr=learn_rate, momentum=momentum)\n",
    "    model.compile(loss='binary_crossentropy', optimizer=optimizer, metrics=['accuracy'])\n",
    "    return model\n",
    "\n",
    "estimator = KerasClassifier(build_fn=create_model, epochs=10)\n",
    "\n",
    "# Grid Search - Use a coarse grid search first then zoom in on opportunities\n",
    "\n",
    "param_grid = dict(\n",
    "    epochs=[10, 20, 30, 40],\n",
    "    batch_size=[50, 100, 150],\n",
    "    optimizer=['SGD', 'Adam', 'RMSProp', 'Adagrad', 'Adadelta', 'Adamax', 'Nadam'],\n",
    "    learn_rate=[1e-6, 1e-7, 1e-8],\n",
    "    momentum=[0.0, 0.2,],\n",
    "    init_mode = ['uniform', 'lecun_uniform', 'normal', 'zero', 'glorot_normal', 'glorot_uniform', 'he_normal', 'he_uniform'],\n",
    "    activation = ['softmax', 'softplus', 'softsign', 'relu', 'tanh', 'sigmoid', 'hard_sigmoid', 'linear'],\n",
    "    weight_constraint = [0, 1, 2, 3, 4, 5, 6],\n",
    "    dropout_rate = [0.0, 0.1, 0.2, 0.3, 0.4, 0.5, 0.6, 0.7, 0.8, 0.9]\n",
    ")\n",
    "\n",
    "grid = GridSearchCV(estimator=estimator, param_grid=param_grid, n_jobs=-1, cv=10)\n",
    "grid_result = grid.fit(x_scale, y)\n",
    "print('Best score: ',grid_result.best_score_)\n",
    "print('Best params: ', grid_result.best_params_)"
   ]
  },
  {
   "cell_type": "code",
   "execution_count": 107,
   "id": "897a0f61",
   "metadata": {
    "tags": []
   },
   "outputs": [],
   "source": [
    "# acc = 0.5296205997467041\n",
    "# loss = 0.6931\n",
    "\n",
    "# Plot Model\n",
    "# history = model.fit()\n",
    "# plt.plot(history.history['accuracy'])\n",
    "# plt.plot(history.history['val_accuracy'])\n",
    "# plt.title('Model Accuracy')\n",
    "# plt.ylabel('Accuracy')\n",
    "# plt.xlabel('Epochs')\n",
    "# plt.legend(['Train', 'Test'], loc='upper_left')\n",
    "# plt.show()"
   ]
  },
  {
   "cell_type": "code",
   "execution_count": 7,
   "id": "c10163b9",
   "metadata": {},
   "outputs": [
    {
     "name": "stdout",
     "output_type": "stream",
     "text": [
      "Epoch 1/10\n",
      "155/155 [==============================] - 1s 4ms/step - loss: 0.6872 - accuracy: 0.5439 - val_loss: 0.6877 - val_accuracy: 0.5402\n",
      "Epoch 2/10\n",
      "155/155 [==============================] - 1s 3ms/step - loss: 0.6872 - accuracy: 0.5437 - val_loss: 0.6877 - val_accuracy: 0.5401\n",
      "Epoch 3/10\n",
      "155/155 [==============================] - 1s 4ms/step - loss: 0.6872 - accuracy: 0.5438 - val_loss: 0.6877 - val_accuracy: 0.5402\n",
      "Epoch 4/10\n",
      "155/155 [==============================] - 1s 3ms/step - loss: 0.6872 - accuracy: 0.5440 - val_loss: 0.6877 - val_accuracy: 0.5401\n",
      "Epoch 5/10\n",
      "155/155 [==============================] - 1s 4ms/step - loss: 0.6872 - accuracy: 0.5438 - val_loss: 0.6877 - val_accuracy: 0.5401\n",
      "Epoch 6/10\n",
      "155/155 [==============================] - 1s 4ms/step - loss: 0.6872 - accuracy: 0.5439 - val_loss: 0.6877 - val_accuracy: 0.5401\n",
      "Epoch 7/10\n",
      "155/155 [==============================] - 1s 4ms/step - loss: 0.6872 - accuracy: 0.5437 - val_loss: 0.6877 - val_accuracy: 0.5401\n",
      "Epoch 8/10\n",
      "155/155 [==============================] - 1s 4ms/step - loss: 0.6872 - accuracy: 0.5441 - val_loss: 0.6877 - val_accuracy: 0.5402\n",
      "Epoch 9/10\n",
      "155/155 [==============================] - 1s 3ms/step - loss: 0.6872 - accuracy: 0.5440 - val_loss: 0.6877 - val_accuracy: 0.5401\n",
      "Epoch 10/10\n",
      "155/155 [==============================] - 1s 4ms/step - loss: 0.6872 - accuracy: 0.5436 - val_loss: 0.6877 - val_accuracy: 0.5401\n"
     ]
    },
    {
     "data": {
      "text/plain": [
       "<tensorflow.python.keras.callbacks.History at 0x7f4c7ed05190>"
      ]
     },
     "execution_count": 7,
     "metadata": {},
     "output_type": "execute_result"
    }
   ],
   "source": [
    "# Saving Model\n",
    "# model.save('New Model.h5')\n",
    "\n",
    "# Load Model\n",
    "model = load_model('Model.h5')\n",
    "\n",
    "model.fit(x_scale, y, epochs=10, batch_size=500, validation_split=0.2, verbose=1)"
   ]
  },
  {
   "cell_type": "code",
   "execution_count": 8,
   "id": "6d972993-253d-4cae-bac6-f3f260a211ea",
   "metadata": {},
   "outputs": [
    {
     "name": "stdout",
     "output_type": "stream",
     "text": [
      "Model: \"sequential_34\"\n",
      "_________________________________________________________________\n",
      "Layer (type)                 Output Shape              Param #   \n",
      "=================================================================\n",
      "dense_264 (Dense)            (None, 128)               30336     \n",
      "_________________________________________________________________\n",
      "dense_265 (Dense)            (None, 236)               30444     \n",
      "_________________________________________________________________\n",
      "dense_266 (Dense)            (None, 118)               27966     \n",
      "_________________________________________________________________\n",
      "dense_267 (Dense)            (None, 59)                7021      \n",
      "_________________________________________________________________\n",
      "dense_268 (Dense)            (None, 30)                1800      \n",
      "_________________________________________________________________\n",
      "dense_269 (Dense)            (None, 15)                465       \n",
      "_________________________________________________________________\n",
      "dense_270 (Dense)            (None, 4)                 64        \n",
      "_________________________________________________________________\n",
      "dense_271 (Dense)            (None, 1)                 5         \n",
      "=================================================================\n",
      "Total params: 98,101\n",
      "Trainable params: 98,101\n",
      "Non-trainable params: 0\n",
      "_________________________________________________________________\n"
     ]
    }
   ],
   "source": []
  },
  {
   "cell_type": "code",
   "execution_count": null,
   "id": "5aba3380-e5b3-4045-b4c4-06260539eefe",
   "metadata": {},
   "outputs": [],
   "source": [
    "#### USE TRAIN TEST VALIDATE\n",
    "train and valid in model.fit(validation=validation split)\n",
    "model.evaluate(test split)"
   ]
  },
  {
   "cell_type": "code",
   "execution_count": null,
   "id": "de166558",
   "metadata": {},
   "outputs": [],
   "source": [
    "## PRE-TRAINING 53.04% Test Acc\n",
    "\n",
    "\n",
    "# batch size = 1, batch_size = len(x_train) batch_size = len(x_train)//16\n",
    "# ReduceLRonplateau\n",
    "# rlrp = ReduceLROnPlateau(monitor='val_loss', factor=0.1, patience=5, min_delta=1E-7, verbose=1)\n",
    "# model.fit(trainX, trainy, validation_data=(testX, testy), epochs=300, verbose=0, callbacks=[rlrp])\n",
    "\n",
    "# Create train and test\n",
    "train_percent = 0.15\n",
    "n_train = int(len(x_scale) * train_percent)\n",
    "x_train, x_test = x_scale[:n_train, :], x_scale[n_train:, :]\n",
    "y_train, y_test = y[:n_train], y[n_train:]\n",
    "\n",
    "epochs = 20\n",
    "batch_size = 1\n",
    "\n",
    "# Base model\n",
    "def get_base_model(x_train, y_train):\n",
    "    model = Sequential()\n",
    "    model.add(Dense(236, input_dim=236, activation='relu'))\n",
    "    model.add(Dropout(0.5))\n",
    "    model.add(Dense(1, activation='sigmoid'))\n",
    "    \n",
    "    opt = SGD(lr=0.0001, momentum=0.9)\n",
    "    model.compile(loss='binary_crossentropy', optimizer=opt, metrics=['accuracy'])\n",
    "    model.fit(x_train, y_train, epochs=epochs, batch_size=batch_size, verbose=0)\n",
    "    return model\n",
    "\n",
    "# Eval model\n",
    "def evaluate_model(model, x_train, y_train, x_test, y_test):\n",
    "    _, train_acc = model.evaluate(x_train, y_train, verbose=0)\n",
    "    _, test_acc = model.evaluate(x_test, y_test, verbose=0)\n",
    "    return train_acc, test_acc\n",
    "\n",
    "# Add one layer only and set trainable=False\n",
    "def add_layer(model, x_train, y_train):\n",
    "    output_layer = model.layers[-1]\n",
    "    model.pop()\n",
    "    for layer in model.layers:\n",
    "        layer.trainable = False\n",
    "    model.add(Dense(236, activation='relu'))\n",
    "    model.add(Dropout(0.1))\n",
    "    model.add(output_layer)\n",
    "    model.fit(x_train, y_train, epochs=epochs, batch_size=batch_size)\n",
    "    \n",
    "model = get_base_model(x_train, y_train)\n",
    "\n",
    "scores = dict()\n",
    "train_acc, test_acc = evaluate_model(model, x_train, y_train, x_test, y_test)\n",
    "print('> layers=%d, train=%.3f, test=%.3f' % (len(model.layers), train_acc, test_acc))\n",
    "scores[len(model.layers)] = (train_acc, test_acc)\n",
    "\n",
    "n_layers = 9\n",
    "\n",
    "for i in range(n_layers):\n",
    "    add_layer(model, x_train, y_train)\n",
    "    train_acc, test_acc = evaluate_model(model, x_train, y_train, x_test, y_test)\n",
    "    print('> layers=%d, train=%.3f, test=%.3f' % (len(model.layers), train_acc, test_acc))\n",
    "    scores[len(model.layers)] = (train_acc, test_acc)\n",
    "    \n",
    "plt.plot(list(scores.keys()), [scores[k][0] for k in scores.keys()], label='train', marker='.')\n",
    "plt.plot(list(scores.keys()), [scores[k][1] for k in scores.keys()], label='test', marker='.')\n",
    "plt.legend()\n",
    "plt.show()"
   ]
  },
  {
   "cell_type": "code",
   "execution_count": 82,
   "id": "433c9394",
   "metadata": {},
   "outputs": [],
   "source": [
    "# go through all of MLM and DeepLizard\n",
    "\n",
    "# model.save('Model 58% Train Acc.h5') # Over fitting train = 60%, test = 53.4%\n",
    "# Model.h5 = 54% train acc, 54% test acc\n",
    "\n",
    "# Pretraining | Increase in 3% in train, no increase in test\n",
    "# Add in the NBA features - Check | slight decrease\n",
    "# Activity regularization | Decrease in 2%\n",
    "# Batchnorm | Increase in training (60%) no increase in testing (53.4%)\n",
    "# Glorot_uniform/glorot_normal = batch norming\n",
    "\n",
    "# Lesson 3 Learning Rate Schedule\n",
    "# Add in power rankings\n",
    "# Add in ELO ratings\n",
    "# Use LSTM layers\n",
    "# Use predictions of > 60%, 70%, 80%, 90%, 95%"
   ]
  },
  {
   "cell_type": "code",
   "execution_count": null,
   "id": "ec8a90f4",
   "metadata": {},
   "outputs": [],
   "source": [
    "# Calculate for each year\n",
    "    # Home wins\n",
    "    # Fav wins\n",
    "    # Total Fav Wins\n",
    "\n",
    "home_fav = data_current[data_current['Home Odds'] < data_current['Vis Odds']]\n",
    "vis_fav = data_current[data_current['Home Odds'] > data_current['Vis Odds']]\n",
    "home_fav_win = home_fav[home_fav['Home Win'] == True]\n",
    "vis_fav_win = vis_fav[vis_fav['Home Win'] == False]\n",
    "\n",
    "print('Home Favourite Wins: ',len(home_fav_win) / len(home_fav)) # 57% HOME FAV WINS\n",
    "print('Visitor Favourite Wins: ',len(vis_fav_win) / len(vis_fav)) # 56% VIS FAV WINS\n",
    "print('Favourite Wins: ',(len(home_fav_win) + len(vis_fav_win)) / (len(home_fav) + len(vis_fav))) # 56.6% FAVOURITE WINS\n",
    "\n",
    "print('Home Wins: ',len(data_current[data_current['Home Win'] == True]) / len(data_current)) # 53% HOME WINS"
   ]
  },
  {
   "cell_type": "code",
   "execution_count": 28,
   "id": "bffe5355",
   "metadata": {},
   "outputs": [
    {
     "data": {
      "text/plain": [
       "0.5296206568103698"
      ]
     },
     "execution_count": 28,
     "metadata": {},
     "output_type": "execute_result"
    }
   ],
   "source": []
  },
  {
   "cell_type": "code",
   "execution_count": null,
   "id": "a6b8cd42",
   "metadata": {},
   "outputs": [],
   "source": []
  }
 ],
 "metadata": {
  "kernelspec": {
   "display_name": "Python 3",
   "language": "python",
   "name": "python3"
  },
  "language_info": {
   "codemirror_mode": {
    "name": "ipython",
    "version": 3
   },
   "file_extension": ".py",
   "mimetype": "text/x-python",
   "name": "python",
   "nbconvert_exporter": "python",
   "pygments_lexer": "ipython3",
   "version": "3.8.8"
  }
 },
 "nbformat": 4,
 "nbformat_minor": 5
}
