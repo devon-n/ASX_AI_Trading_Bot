{
 "cells": [
  {
   "cell_type": "code",
   "execution_count": 25,
   "id": "41e2e2f9-cf9f-40e9-9cc1-16c34b179eda",
   "metadata": {},
   "outputs": [],
   "source": [
    "from os.path import exists\n",
    "import investpy\n",
    "import pandas as pd\n",
    "import os\n",
    "import yfinance as yf\n",
    "from functools import reduce\n",
    "\n",
    "from_date = '04/01/1999'\n",
    "to_date = '04/01/2022'"
   ]
  },
  {
   "cell_type": "code",
   "execution_count": 29,
   "id": "b4bcfa65-1ae1-443e-941f-05d10ce6dd3c",
   "metadata": {},
   "outputs": [],
   "source": [
    "# Get list of stocks\n",
    "\n",
    "au_stocks = ['tls', 'bhp', 'anz', 'cba', 'csl', 'wow', 'fmg', 'mqg', 'brg', 'cpu', 'gpt', 'qbe', 'sun', 'wes']\n",
    "\n",
    "au_stocks = [i+'.ax' for i in au_stocks]"
   ]
  },
  {
   "cell_type": "code",
   "execution_count": 33,
   "id": "aa6239a5-d15c-43d3-8587-41d0707348a4",
   "metadata": {},
   "outputs": [],
   "source": [
    "au_stocks = ['rio', 'nab', 'wbc', 'fmg', 'tcl', 'all', 'wpl', 'sto', 'ncm', 'rea', 'shl', 'rhc', 'bxb', 'coh']\n",
    "\n",
    "au_stocks = [i+'.ax' for i in au_stocks]"
   ]
  },
  {
   "cell_type": "code",
   "execution_count": 34,
   "id": "24087794-f58a-48f7-b71d-da02a83b038b",
   "metadata": {
    "tags": []
   },
   "outputs": [],
   "source": [
    "# Save data for each stock\n",
    "\n",
    "for fund in au_stocks:\n",
    "    df = yf.Ticker(fund).history(period='max')\n",
    "    df.to_csv(f'./rawStocks/{fund}.csv', index='Date')"
   ]
  },
  {
   "cell_type": "code",
   "execution_count": 40,
   "id": "2002d4fd-d2d5-419c-884b-e698046d92e3",
   "metadata": {},
   "outputs": [],
   "source": [
    "# Get all CSV's\n",
    "\n",
    "def find_csvs(path, suffix='.csv'):\n",
    "    files = os.listdir(path)\n",
    "    return [file for file in files if file.endswith(suffix)]\n",
    "files = find_csvs('rawStocks')\n",
    "\n",
    "useable_files = []\n",
    "\n",
    "for f in files:\n",
    "    df = pd.read_csv(f'./rawStocks/{f}')\n",
    "    useable_files.append(f)"
   ]
  },
  {
   "cell_type": "code",
   "execution_count": 41,
   "id": "141f7982-d8c5-4028-9760-0c2d2c7076e7",
   "metadata": {},
   "outputs": [],
   "source": [
    "# Take close price from each df\n",
    "\n",
    "dataframes = []\n",
    "\n",
    "for file in useable_files:\n",
    "\n",
    "    df = pd.read_csv(f'./rawStocks/{file}')\n",
    "    new_df = df[['Date', 'Close']]\n",
    "    new_df.columns = ['Date', str(file)[:-4]]\n",
    "    dataframes.append(new_df)"
   ]
  },
  {
   "cell_type": "code",
   "execution_count": 43,
   "id": "5be14bbc-dc03-4f5b-9cda-efd80a569585",
   "metadata": {},
   "outputs": [],
   "source": [
    "# Combine and save dataframes\n",
    "\n",
    "au_stocks_df = reduce(lambda x, y: pd.merge(x, y, on='Date', how='outer', sort=True), dataframes)\n",
    "au_stocks_df.to_csv('au_stocks.csv', index=False)"
   ]
  },
  {
   "cell_type": "code",
   "execution_count": 12,
   "id": "b0018c8b-4a92-48ac-b349-c6949265a15f",
   "metadata": {
    "tags": []
   },
   "outputs": [],
   "source": []
  },
  {
   "cell_type": "code",
   "execution_count": 41,
   "id": "d2697d76-0fbc-4eff-a05c-4c0f084ab9e8",
   "metadata": {
    "tags": []
   },
   "outputs": [
    {
     "data": {
      "text/plain": [
       "[            Date  Silver\n",
       " 0     1999-01-04   4.902\n",
       " 1     1999-01-05   5.004\n",
       " 2     1999-01-06   5.129\n",
       " 3     1999-01-07   5.204\n",
       " 4     1999-01-08   5.254\n",
       " ...          ...     ...\n",
       " 6243  2021-12-30  23.091\n",
       " 6244  2021-12-31  23.381\n",
       " 6245  2022-01-02  23.328\n",
       " 6246  2022-01-03  22.840\n",
       " 6247  2022-01-04  23.086\n",
       " \n",
       " [6248 rows x 2 columns],\n",
       "             Date    Gold\n",
       " 0     1999-01-04   287.4\n",
       " 1     1999-01-05   286.9\n",
       " 2     1999-01-06   287.6\n",
       " 3     1999-01-07   291.6\n",
       " 4     1999-01-08   291.2\n",
       " ...          ...     ...\n",
       " 5874  2021-12-29  1805.8\n",
       " 5875  2021-12-30  1814.1\n",
       " 5876  2021-12-31  1828.6\n",
       " 5877  2022-01-03  1800.1\n",
       " 5878  2022-01-04  1814.6\n",
       " \n",
       " [5879 rows x 2 columns],\n",
       "             Date  Copper\n",
       " 0     1999-01-04  0.6440\n",
       " 1     1999-01-05  0.6390\n",
       " 2     1999-01-06  0.6450\n",
       " 3     1999-01-07  0.6450\n",
       " 4     1999-01-08  0.6530\n",
       " ...          ...     ...\n",
       " 5821  2021-12-30  4.3925\n",
       " 5822  2021-12-31  4.4595\n",
       " 5823  2022-01-02  4.4603\n",
       " 5824  2022-01-03  4.4207\n",
       " 5825  2022-01-04  4.4665\n",
       " \n",
       " [5826 rows x 2 columns]]"
      ]
     },
     "execution_count": 41,
     "metadata": {},
     "output_type": "execute_result"
    }
   ],
   "source": [
    "# Merge files\n",
    "for dataframe, idx in dataframes:\n",
    "    df = dataframes[0].merge(dataframes[1], on='Date', how='outer')\n",
    "\n",
    "# Sort df\n",
    "df.sort_values('Date', inplace=True)\n",
    "\n",
    "# Fill Na\n",
    "df.fillna(inplace=True, method='ffill')\n",
    "\n",
    "# Save DF\n",
    "df.to_csv('aus_stocks.csv', index=False)"
   ]
  },
  {
   "cell_type": "code",
   "execution_count": null,
   "id": "31993c06-7d6e-42d2-8de6-538c2dfa09e0",
   "metadata": {},
   "outputs": [],
   "source": [
    "# Get available commodities saved from before\n",
    "\n",
    "with open('./rawComs/available_commodities.txt', 'r') as f:\n",
    "    avail_coms = f.readlines()\n",
    "avail_coms = eval(avail_coms[0])\n",
    "\n",
    "com_problems = []"
   ]
  },
  {
   "cell_type": "code",
   "execution_count": null,
   "id": "a4904703-03a9-46dd-988f-1392c13c4d79",
   "metadata": {},
   "outputs": [],
   "source": [
    "# Get commoditity data\n",
    "\n",
    "for asset in assets:\n",
    "    com_df = investpy.commodities.get_commodity_historical_data(asset, from_date='04/01/1999', to_date='04/01/2022')\n",
    "    time.sleep(1)\n",
    "    com_df = com_df.reset_index()\n",
    "    com_df.to_csv(f'./dataframes/rawComs/{asset}.csv', index=False)"
   ]
  },
  {
   "cell_type": "code",
   "execution_count": null,
   "id": "9016a654-0858-4375-b082-f3da1f57e01e",
   "metadata": {},
   "outputs": [],
   "source": [
    "assets = avail_coms\n",
    "\n",
    "def add_commodity(df, asset):\n",
    "    try:\n",
    "        com_df = investpy.commodities.get_commodity_historical_data(asset, from_date='04/01/1999', to_date='04/01/2022')\n",
    "        time.sleep(1)\n",
    "        com_col = com_df['Close']\n",
    "        com_df = com_col.reset_index()\n",
    "        com_df.columns = ['Date', str(asset)]\n",
    "        df['Date'] = pd.to_datetime(df['Date'])\n",
    "        new_df = df.merge(com_df, on='Date', how='left')\n",
    "        return new_df\n",
    "    except Exception as e:\n",
    "        com_problems.append(asset)\n",
    "        print(\"Error with: \", asset, '. ', e)\n",
    "        return df\n",
    "        "
   ]
  }
 ],
 "metadata": {
  "kernelspec": {
   "display_name": "sbtrader",
   "language": "python",
   "name": "sbtrader"
  },
  "language_info": {
   "codemirror_mode": {
    "name": "ipython",
    "version": 3
   },
   "file_extension": ".py",
   "mimetype": "text/x-python",
   "name": "python",
   "nbconvert_exporter": "python",
   "pygments_lexer": "ipython3",
   "version": "3.9.7"
  }
 },
 "nbformat": 4,
 "nbformat_minor": 5
}
